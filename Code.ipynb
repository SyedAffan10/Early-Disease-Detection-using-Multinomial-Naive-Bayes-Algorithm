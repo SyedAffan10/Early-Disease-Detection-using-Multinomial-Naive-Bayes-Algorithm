{
 "cells": [
  {
   "cell_type": "markdown",
   "id": "745186a2",
   "metadata": {},
   "source": [
    "# Import Libraries"
   ]
  },
  {
   "cell_type": "code",
   "execution_count": null,
   "id": "cb3d3e49",
   "metadata": {},
   "outputs": [],
   "source": [
    "import pandas as pd\n",
    "import json\n",
    "from sklearn.naive_bayes import MultinomialNB\n",
    "import pickle\n",
    "import joblib"
   ]
  },
  {
   "cell_type": "markdown",
   "id": "a5e50336",
   "metadata": {},
   "source": [
    "# Load your data"
   ]
  },
  {
   "cell_type": "code",
   "execution_count": null,
   "id": "8ff00041",
   "metadata": {},
   "outputs": [],
   "source": [
    "data = pd.read_csv('./folder/data.csv')"
   ]
  },
  {
   "cell_type": "markdown",
   "id": "629cfcc2",
   "metadata": {},
   "source": [
    "# Extract diseases and symptoms"
   ]
  },
  {
   "cell_type": "code",
   "execution_count": null,
   "id": "115f66b7",
   "metadata": {},
   "outputs": [],
   "source": [
    "diseases = data['Diseases']\n",
    "symptoms = data.drop(['Diseases'], axis=1)"
   ]
  },
  {
   "cell_type": "markdown",
   "id": "184f6958",
   "metadata": {},
   "source": [
    "# Create and train a Multinomial Naive Bayes model for multi-class classification"
   ]
  },
  {
   "cell_type": "code",
   "execution_count": null,
   "id": "71955730",
   "metadata": {},
   "outputs": [],
   "source": [
    "model = MultinomialNB()\n",
    "model.fit(symptoms, diseases)"
   ]
  },
  {
   "cell_type": "markdown",
   "id": "9ca9df49",
   "metadata": {},
   "source": [
    "# Save the trained model to a .pkl file"
   ]
  },
  {
   "cell_type": "code",
   "execution_count": null,
   "id": "779d6424",
   "metadata": {},
   "outputs": [],
   "source": [
    "with open('./folder/disease_model.pkl', 'wb') as file:\n",
    "    pickle.dump(model, file)"
   ]
  },
  {
   "cell_type": "markdown",
   "id": "51539801",
   "metadata": {},
   "source": [
    "# Load the saved model"
   ]
  },
  {
   "cell_type": "code",
   "execution_count": null,
   "id": "57f53a32",
   "metadata": {},
   "outputs": [],
   "source": [
    "with open('./folder/disease_model.pkl', 'rb') as file:\n",
    "    loaded_model = pickle.load(file)"
   ]
  }
 ],
 "metadata": {
  "kernelspec": {
   "display_name": "Python 3 (ipykernel)",
   "language": "python",
   "name": "python3"
  },
  "language_info": {
   "codemirror_mode": {
    "name": "ipython",
    "version": 3
   },
   "file_extension": ".py",
   "mimetype": "text/x-python",
   "name": "python",
   "nbconvert_exporter": "python",
   "pygments_lexer": "ipython3",
   "version": "3.11.4"
  }
 },
 "nbformat": 4,
 "nbformat_minor": 5
}
